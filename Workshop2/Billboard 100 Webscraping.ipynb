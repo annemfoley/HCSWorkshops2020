{
 "cells": [
  {
   "cell_type": "code",
   "execution_count": 46,
   "metadata": {},
   "outputs": [],
   "source": [
    "import requests\n",
    "\n",
    "from bs4 import BeautifulSoup\n",
    "\n",
    "page = requests.get('https://www.billboard.com/charts/hot-100')\n",
    "soup = BeautifulSoup(page.content, 'html.parser')\n",
    "\n",
    "hits_chart = soup.find(class_ = 'chart-list__elements')\n",
    "hits = hits_chart.find_all(class_ = 'chart-list__element')\n"
   ]
  },
  {
   "cell_type": "code",
   "execution_count": 59,
   "metadata": {},
   "outputs": [
    {
     "name": "stdout",
     "output_type": "stream",
     "text": [
      "\n",
      "TOP 10 ARTISTS WITH MOST HITS:\n",
      "\n",
      "\tHits:7\t\tArtist: BTS\n",
      "\tHits:6\t\tArtist: Morgan Wallen\n",
      "\tHits:4\t\tArtist: Megan Thee Stallion\n",
      "\tHits:3\t\tArtist: Ariana Grande\n",
      "\tHits:2\t\tArtist: Harry Styles\n",
      "\tHits:2\t\tArtist: Luke Combs\n",
      "\tHits:1\t\tArtist: 24kGoldn Featuring iann dior\n",
      "\tHits:1\t\tArtist: Gabby Barrett Featuring Charlie Puth\n",
      "\tHits:1\t\tArtist: Justin Bieber Featuring Chance The Rapper\n",
      "\tHits:1\t\tArtist: Drake Featuring Lil Durk\n"
     ]
    }
   ],
   "source": [
    "# display artists with current most top 100 hits:\n",
    "artists = hits_chart.find_all(class_ = 'chart-element__information__artist text--truncate color--secondary')\n",
    "artist_list = []\n",
    "for artist in artists:\n",
    "    count = 0\n",
    "    for member in artist_list:\n",
    "        if artist.get_text() in member:\n",
    "            member[1]+=1\n",
    "            count = 1\n",
    "            break\n",
    "    if count==0:\n",
    "        artist_list.append([artist.get_text(),1])\n",
    "        \n",
    "artist_list = sorted(artist_list, key=lambda l:l[1],reverse = True)\n",
    "\n",
    "print(\"\\nTOP 10 ARTISTS WITH MOST HITS:\\n\")\n",
    "for i in range(10):\n",
    "    print(\"\\tHits:\" + str(artist_list[i][1]) + \"\\t\\tArtist: \"+artist_list[i][0])\n",
    "        "
   ]
  },
  {
   "cell_type": "code",
   "execution_count": 60,
   "metadata": {},
   "outputs": [
    {
     "name": "stdout",
     "output_type": "stream",
     "text": [
      "\n",
      "MOST WEEKS ON TOP 100\n",
      "\n",
      "\tArtist: The Weeknd\n",
      "\tSong title: Blinding Lights\n",
      "\t# of Weeks: 52\n"
     ]
    }
   ],
   "source": [
    "# Display artist and song with most weeks on the chart\n",
    "\n",
    "max_weeks = -1\n",
    "longest_artist = \"\"\n",
    "longest_song = \"\"\n",
    "for hit in hits:\n",
    "    weeks = hit.find(class_='chart-element__meta text--center color--secondary text--week').get_text()\n",
    "    if int(weeks)>max_weeks:\n",
    "        max_weeks = int(weeks)\n",
    "        longest_artist = hit.find(class_ = 'chart-element__information__artist text--truncate color--secondary').get_text()\n",
    "        longest_song = hit.find(class_ = 'chart-element__information__song text--truncate color--primary').get_text()\n",
    "\n",
    "print(\"\\nMOST WEEKS ON TOP 100\\n\")\n",
    "print(\"\\tArtist: \"+longest_artist)\n",
    "print(\"\\tSong title: \"+longest_song)\n",
    "print(\"\\t# of Weeks: \"+str(max_weeks))"
   ]
  },
  {
   "cell_type": "code",
   "execution_count": null,
   "metadata": {},
   "outputs": [],
   "source": []
  }
 ],
 "metadata": {
  "kernelspec": {
   "display_name": "Python 3",
   "language": "python",
   "name": "python3"
  },
  "language_info": {
   "codemirror_mode": {
    "name": "ipython",
    "version": 3
   },
   "file_extension": ".py",
   "mimetype": "text/x-python",
   "name": "python",
   "nbconvert_exporter": "python",
   "pygments_lexer": "ipython3",
   "version": "3.8.5"
  }
 },
 "nbformat": 4,
 "nbformat_minor": 4
}
